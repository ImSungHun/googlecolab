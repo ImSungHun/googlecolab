{
  "nbformat": 4,
  "nbformat_minor": 0,
  "metadata": {
    "colab": {
      "provenance": [],
      "authorship_tag": "ABX9TyOmdFWOgoHgBu0TrEwD880h"
    },
    "kernelspec": {
      "name": "python3",
      "display_name": "Python 3"
    },
    "language_info": {
      "name": "python"
    },
    "accelerator": "GPU",
    "gpuClass": "standard"
  },
  "cells": [
    {
      "cell_type": "code",
      "source": [
        "import torch\n",
        "import torch.nn as nn"
      ],
      "metadata": {
        "id": "KVNQQCQAs35M"
      },
      "execution_count": 1,
      "outputs": []
    },
    {
      "cell_type": "code",
      "source": [
        "device = 'cuda' if torch.cuda.is_available() else 'cpu'"
      ],
      "metadata": {
        "id": "CjDbWDwPvJQ2"
      },
      "execution_count": 2,
      "outputs": []
    },
    {
      "cell_type": "code",
      "source": [
        "torch.manual_seed(2022)\n",
        "if device == 'cuda':\n",
        "    torch.cuda.manual_seed_all(2022)"
      ],
      "metadata": {
        "id": "AEOhpjhmvcwv"
      },
      "execution_count": 3,
      "outputs": []
    },
    {
      "cell_type": "code",
      "source": [
        "X = torch.FloatTensor([\n",
        "        [0,0],\n",
        "        [0,1],\n",
        "        [1,0],\n",
        "        [1,1]\n",
        "    ]).to(device)\n",
        "\n",
        "Y = torch.FloatTensor([\n",
        "        [0],[0],[0],[1]\n",
        "    ]).to(device)"
      ],
      "metadata": {
        "id": "RmbdQsG6voSo"
      },
      "execution_count": 12,
      "outputs": []
    },
    {
      "cell_type": "code",
      "source": [
        "model = nn.Sequential(\n",
        "    nn.Linear(2, 1, bias=True),\n",
        "    nn.Sigmoid()\n",
        ").to(device)"
      ],
      "metadata": {
        "id": "Ia4jXY8szp4z"
      },
      "execution_count": 13,
      "outputs": []
    },
    {
      "cell_type": "code",
      "source": [
        "loss_func = torch.nn.BCELoss().to(device)\n",
        "optimizer = torch.optim.SGD(model.parameters(), lr=0.01)"
      ],
      "metadata": {
        "id": "ltCT3fNV0dmQ"
      },
      "execution_count": 14,
      "outputs": []
    },
    {
      "cell_type": "code",
      "source": [
        "for step in range(20001):\n",
        "    optimizer.zero_grad()\n",
        "\n",
        "    Y_hat = model(X)\n",
        "    loss = loss_func(Y_hat, Y)\n",
        "    loss.backward()\n",
        "    optimizer.step()\n",
        "\n",
        "    if step % 1000 == 0:\n",
        "        print(step, loss.item())"
      ],
      "metadata": {
        "colab": {
          "base_uri": "https://localhost:8080/"
        },
        "id": "lRYkq8y6038M",
        "outputId": "58490b46-05b7-46bb-8bf7-7649cdf8094f"
      },
      "execution_count": 15,
      "outputs": [
        {
          "output_type": "stream",
          "name": "stdout",
          "text": [
            "0 0.7062125205993652\n",
            "1000 0.426382452249527\n",
            "2000 0.3418750464916229\n",
            "3000 0.2875690460205078\n",
            "4000 0.24921929836273193\n",
            "5000 0.2203773856163025\n",
            "6000 0.1977257877588272\n",
            "7000 0.17937429249286652\n",
            "8000 0.1641569435596466\n",
            "9000 0.1513088047504425\n",
            "10000 0.1403033584356308\n",
            "11000 0.1307639181613922\n",
            "12000 0.12241251766681671\n",
            "13000 0.11503881216049194\n",
            "14000 0.108480304479599\n",
            "15000 0.10260899364948273\n",
            "16000 0.09732254594564438\n",
            "17000 0.09253840148448944\n",
            "18000 0.08818865567445755\n",
            "19000 0.08421751856803894\n",
            "20000 0.08057790994644165\n"
          ]
        }
      ]
    },
    {
      "cell_type": "code",
      "source": [
        "with torch.no_grad():\n",
        "    model.eval()\n",
        "    inputs = torch.FloatTensor([\n",
        "        [0,0],\n",
        "        [0,1],\n",
        "        [1,0],\n",
        "        [1,1]\n",
        "    ]).to(device)\n",
        "    outputs = model(inputs)\n",
        "\n",
        "    print(outputs)\n",
        "    print(outputs > 0.5)"
      ],
      "metadata": {
        "colab": {
          "base_uri": "https://localhost:8080/"
        },
        "id": "CCLp8r-O1xA7",
        "outputId": "2c257ea5-09ef-4aaa-ebcc-1b8d5b615dd5"
      },
      "execution_count": 16,
      "outputs": [
        {
          "output_type": "stream",
          "name": "stdout",
          "text": [
            "tensor([[0.0014],\n",
            "        [0.0892],\n",
            "        [0.0892],\n",
            "        [0.8744]], device='cuda:0')\n",
            "tensor([[False],\n",
            "        [False],\n",
            "        [False],\n",
            "        [ True]], device='cuda:0')\n"
          ]
        }
      ]
    },
    {
      "cell_type": "code",
      "source": [],
      "metadata": {
        "id": "TIx_dacN2iqE"
      },
      "execution_count": null,
      "outputs": []
    }
  ]
}